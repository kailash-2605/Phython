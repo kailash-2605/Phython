{
 "cells": [
  {
   "cell_type": "code",
   "execution_count": 1,
   "id": "8fa5d278",
   "metadata": {},
   "outputs": [
    {
     "name": "stdout",
     "output_type": "stream",
     "text": [
      "enter your namekailash\n"
     ]
    }
   ],
   "source": [
    "a = input(\"enter your name\").isalpha()"
   ]
  },
  {
   "cell_type": "code",
   "execution_count": 23,
   "id": "b3f59254",
   "metadata": {},
   "outputs": [
    {
     "data": {
      "text/plain": [
       "True"
      ]
     },
     "execution_count": 23,
     "metadata": {},
     "output_type": "execute_result"
    }
   ],
   "source": [
    "a"
   ]
  },
  {
   "cell_type": "code",
   "execution_count": 27,
   "id": "18cf3b84",
   "metadata": {},
   "outputs": [
    {
     "name": "stdout",
     "output_type": "stream",
     "text": [
      "enter your phone number8637479978\n"
     ]
    }
   ],
   "source": [
    "a= input(\"enter your phone number\").isnumeric()"
   ]
  },
  {
   "cell_type": "code",
   "execution_count": 33,
   "id": "106682ed",
   "metadata": {},
   "outputs": [
    {
     "data": {
      "text/plain": [
       "True"
      ]
     },
     "execution_count": 33,
     "metadata": {},
     "output_type": "execute_result"
    }
   ],
   "source": [
    "a"
   ]
  },
  {
   "cell_type": "code",
   "execution_count": 29,
   "id": "7a87b255",
   "metadata": {},
   "outputs": [
    {
     "name": "stdout",
     "output_type": "stream",
     "text": [
      "enter your passwordkailash123\n"
     ]
    }
   ],
   "source": [
    "a=input(\"enter your password\").isalnum()"
   ]
  },
  {
   "cell_type": "code",
   "execution_count": 32,
   "id": "a08445a5",
   "metadata": {},
   "outputs": [
    {
     "data": {
      "text/plain": [
       "True"
      ]
     },
     "execution_count": 32,
     "metadata": {},
     "output_type": "execute_result"
    }
   ],
   "source": [
    "a"
   ]
  },
  {
   "cell_type": "code",
   "execution_count": 37,
   "id": "ded9e829",
   "metadata": {},
   "outputs": [
    {
     "name": "stdout",
     "output_type": "stream",
     "text": [
      "enter your passwordkailash123\n"
     ]
    }
   ],
   "source": [
    "a=input(\"enter your password\").islower()"
   ]
  },
  {
   "cell_type": "code",
   "execution_count": 38,
   "id": "be9caefb",
   "metadata": {},
   "outputs": [
    {
     "data": {
      "text/plain": [
       "True"
      ]
     },
     "execution_count": 38,
     "metadata": {},
     "output_type": "execute_result"
    }
   ],
   "source": [
    "a\n"
   ]
  },
  {
   "cell_type": "code",
   "execution_count": null,
   "id": "3f703779",
   "metadata": {},
   "outputs": [],
   "source": []
  },
  {
   "cell_type": "code",
   "execution_count": 65,
   "id": "a1d2787f",
   "metadata": {},
   "outputs": [],
   "source": [
    "a=\"dhoni\"\n",
    "a= a[len(a)-1]"
   ]
  },
  {
   "cell_type": "code",
   "execution_count": 66,
   "id": "313c23ba",
   "metadata": {},
   "outputs": [
    {
     "data": {
      "text/plain": [
       "'i'"
      ]
     },
     "execution_count": 66,
     "metadata": {},
     "output_type": "execute_result"
    }
   ],
   "source": [
    "a"
   ]
  },
  {
   "cell_type": "code",
   "execution_count": 68,
   "id": "9b02e65a",
   "metadata": {},
   "outputs": [
    {
     "name": "stdout",
     "output_type": "stream",
     "text": [
      "enter the mobile number8637479978\n"
     ]
    }
   ],
   "source": [
    "#second assignment\n",
    "\n",
    "#1\n",
    "a=input(\"enter the mobile number\")"
   ]
  },
  {
   "cell_type": "code",
   "execution_count": 72,
   "id": "95ff29a2",
   "metadata": {},
   "outputs": [
    {
     "name": "stdout",
     "output_type": "stream",
     "text": [
      "<class 'str'>\n"
     ]
    }
   ],
   "source": [
    "\n",
    "print(type(a))"
   ]
  },
  {
   "cell_type": "code",
   "execution_count": 73,
   "id": "1e1cf85f",
   "metadata": {},
   "outputs": [],
   "source": [
    "#3\n",
    "\n",
    "a=(\"welcome to todays class\")"
   ]
  },
  {
   "cell_type": "code",
   "execution_count": 74,
   "id": "063c5620",
   "metadata": {},
   "outputs": [
    {
     "name": "stdout",
     "output_type": "stream",
     "text": [
      "welcometotodaysclass\n"
     ]
    }
   ],
   "source": [
    "print(a.replace(\" \",\"\"))"
   ]
  },
  {
   "cell_type": "code",
   "execution_count": 80,
   "id": "51488b97",
   "metadata": {},
   "outputs": [
    {
     "name": "stdout",
     "output_type": "stream",
     "text": [
      "enter your gmailtest@gmail.com\n"
     ]
    }
   ],
   "source": [
    "#2\n",
    "\n",
    "a=input(\"enter your gmail\")"
   ]
  },
  {
   "cell_type": "code",
   "execution_count": 81,
   "id": "728225ae",
   "metadata": {},
   "outputs": [
    {
     "name": "stdout",
     "output_type": "stream",
     "text": [
      "['test', '']\n"
     ]
    }
   ],
   "source": [
    "print(a.split(\"@gmail.com\"))"
   ]
  },
  {
   "cell_type": "code",
   "execution_count": 82,
   "id": "6bb3d338",
   "metadata": {},
   "outputs": [
    {
     "name": "stdout",
     "output_type": "stream",
     "text": [
      "['', '@gmail.com']\n"
     ]
    }
   ],
   "source": [
    "print(a.split(\"test\"))\n"
   ]
  },
  {
   "cell_type": "code",
   "execution_count": null,
   "id": "730192d9",
   "metadata": {},
   "outputs": [],
   "source": [
    "a="
   ]
  }
 ],
 "metadata": {
  "kernelspec": {
   "display_name": "Python 3 (ipykernel)",
   "language": "python",
   "name": "python3"
  },
  "language_info": {
   "codemirror_mode": {
    "name": "ipython",
    "version": 3
   },
   "file_extension": ".py",
   "mimetype": "text/x-python",
   "name": "python",
   "nbconvert_exporter": "python",
   "pygments_lexer": "ipython3",
   "version": "3.10.9"
  }
 },
 "nbformat": 4,
 "nbformat_minor": 5
}
