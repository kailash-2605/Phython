{
 "cells": [
  {
   "cell_type": "code",
   "execution_count": 1,
   "id": "8546d32a",
   "metadata": {
    "scrolled": true
   },
   "outputs": [
    {
     "name": "stdout",
     "output_type": "stream",
     "text": [
      "hi\n"
     ]
    }
   ],
   "source": [
    "print(\"hi\")"
   ]
  },
  {
   "cell_type": "code",
   "execution_count": 2,
   "id": "37fc78ad",
   "metadata": {},
   "outputs": [],
   "source": [
    "## two types of comment \n",
    "## single line comment and for that # is used\n",
    "\n"
   ]
  },
  {
   "cell_type": "code",
   "execution_count": 3,
   "id": "9b45b5a3",
   "metadata": {},
   "outputs": [],
   "source": [
    "# ctrl + / -- > auto comment\n",
    "# and uncomment"
   ]
  },
  {
   "cell_type": "code",
   "execution_count": 5,
   "id": "1551c2f1",
   "metadata": {},
   "outputs": [],
   "source": [
    "#multi line comment - \"\"\"\"\"\"\n",
    "three semicolon is used\n",
    "\n"
   ]
  },
  {
   "cell_type": "code",
   "execution_count": 6,
   "id": "bffd8ed3",
   "metadata": {},
   "outputs": [
    {
     "data": {
      "text/plain": [
       "'sljhasdldfaslfdasfa'"
      ]
     },
     "execution_count": 6,
     "metadata": {},
     "output_type": "execute_result"
    }
   ],
   "source": [
    "\"\"\"sljhasdldfaslfdasfa\"\"\""
   ]
  },
  {
   "cell_type": "code",
   "execution_count": 7,
   "id": "461151aa",
   "metadata": {},
   "outputs": [
    {
     "name": "stdout",
     "output_type": "stream",
     "text": [
      "enter your phone number8637479978\n"
     ]
    },
    {
     "data": {
      "text/plain": [
       "'8637479978'"
      ]
     },
     "execution_count": 7,
     "metadata": {},
     "output_type": "execute_result"
    }
   ],
   "source": [
    "input(\"enter your phone number\")"
   ]
  },
  {
   "cell_type": "code",
   "execution_count": 9,
   "id": "94ae26e5",
   "metadata": {},
   "outputs": [],
   "source": [
    "# assiging something to a charater is called as variable name for example a=2, in this a is the variable name.\n",
    "a= \" virat kholi\""
   ]
  },
  {
   "cell_type": "code",
   "execution_count": 10,
   "id": "0e91a923",
   "metadata": {},
   "outputs": [
    {
     "name": "stdout",
     "output_type": "stream",
     "text": [
      " virat kholi\n"
     ]
    }
   ],
   "source": [
    "print(a)"
   ]
  },
  {
   "cell_type": "code",
   "execution_count": 11,
   "id": "4917d30c",
   "metadata": {},
   "outputs": [
    {
     "name": "stdout",
     "output_type": "stream",
     "text": [
      "what is your qualificationbca\n"
     ]
    },
    {
     "data": {
      "text/plain": [
       "'bca'"
      ]
     },
     "execution_count": 11,
     "metadata": {},
     "output_type": "execute_result"
    }
   ],
   "source": [
    "# variable name cannot begin with numbers and it is case sensitive.\n",
    "input(\"what is your qualification\")"
   ]
  },
  {
   "cell_type": "code",
   "execution_count": 13,
   "id": "cdd87aba",
   "metadata": {},
   "outputs": [],
   "source": [
    "a=\"bca\""
   ]
  },
  {
   "cell_type": "code",
   "execution_count": 14,
   "id": "c4d29448",
   "metadata": {},
   "outputs": [
    {
     "name": "stdout",
     "output_type": "stream",
     "text": [
      "bca\n"
     ]
    }
   ],
   "source": [
    "print(a\n",
    "     )"
   ]
  },
  {
   "cell_type": "code",
   "execution_count": 15,
   "id": "630b9fbd",
   "metadata": {},
   "outputs": [
    {
     "name": "stdout",
     "output_type": "stream",
     "text": [
      "enter your namekailash\n"
     ]
    }
   ],
   "source": [
    "a= input(\"enter your name\")"
   ]
  },
  {
   "cell_type": "code",
   "execution_count": 16,
   "id": "3f0c7b3c",
   "metadata": {},
   "outputs": [
    {
     "name": "stdout",
     "output_type": "stream",
     "text": [
      "kailash\n"
     ]
    }
   ],
   "source": [
    "print(a)"
   ]
  },
  {
   "cell_type": "code",
   "execution_count": 17,
   "id": "33acf361",
   "metadata": {},
   "outputs": [
    {
     "name": "stdout",
     "output_type": "stream",
     "text": [
      "<class 'str'>\n"
     ]
    }
   ],
   "source": [
    "print(type(a))  #to identify the data types by using this code"
   ]
  },
  {
   "cell_type": "code",
   "execution_count": 18,
   "id": "04ead9c0",
   "metadata": {},
   "outputs": [
    {
     "name": "stdout",
     "output_type": "stream",
     "text": [
      "True\n"
     ]
    }
   ],
   "source": [
    "print(isinstance(a,str))# to ask whether the datatypes is not or yes\n"
   ]
  },
  {
   "cell_type": "code",
   "execution_count": 20,
   "id": "cb4ad391",
   "metadata": {},
   "outputs": [],
   "source": [
    "#these are two types used to identify the data types\n"
   ]
  },
  {
   "cell_type": "code",
   "execution_count": 21,
   "id": "d5853bdc",
   "metadata": {},
   "outputs": [
    {
     "name": "stdout",
     "output_type": "stream",
     "text": [
      "7\n",
      "s\n",
      "a\n",
      "['a', 'a', 'h', 'i', 'k', 'l', 's']\n"
     ]
    }
   ],
   "source": [
    "print(len(a))# to get lenght of the string\n",
    "print(max(a))# to get max ascii value of the string\n",
    "print(min(a))# to get min ascii value of the string\n",
    "print(sorted(a)) # to get sorted value of the string\n",
    "# space has the min ascii value"
   ]
  },
  {
   "cell_type": "code",
   "execution_count": 23,
   "id": "80484054",
   "metadata": {},
   "outputs": [
    {
     "name": "stdout",
     "output_type": "stream",
     "text": [
      "True\n",
      "True\n",
      "True\n",
      "False\n",
      "False\n",
      "KAILASH\n",
      "kailash\n",
      "KAILASH\n"
     ]
    }
   ],
   "source": [
    "print(a.isalpha()) #whether the string is alphabet\n",
    "print(a.isalnum()) #whether the string is alphabet and number\n",
    "print(a.islower()) #whehter the string is in lower case\n",
    "print(a.isupper()) #whether the string is in upper case\n",
    "print(a.isdigit()) #whether the string is in number case\n",
    "print(a.upper()) #change the string into upper case\n",
    "print(a.lower()) #change the string into lower case\n",
    "print(a.swapcase()#change the string into opposite case "
   ]
  },
  {
   "cell_type": "code",
   "execution_count": 24,
   "id": "7c175820",
   "metadata": {},
   "outputs": [
    {
     "name": "stdout",
     "output_type": "stream",
     "text": [
      "ka\n"
     ]
    }
   ],
   "source": [
    "print(a[0:2])# this is used to get the intervals"
   ]
  },
  {
   "cell_type": "code",
   "execution_count": 25,
   "id": "a5726fe3",
   "metadata": {},
   "outputs": [
    {
     "name": "stdout",
     "output_type": "stream",
     "text": [
      "kailash\n"
     ]
    }
   ],
   "source": [
    "print(a[:])"
   ]
  },
  {
   "cell_type": "code",
   "execution_count": 27,
   "id": "78c010ff",
   "metadata": {},
   "outputs": [
    {
     "name": "stdout",
     "output_type": "stream",
     "text": [
      "kiah\n"
     ]
    }
   ],
   "source": [
    "print(a[::2]) this is used to "
   ]
  },
  {
   "cell_type": "code",
   "execution_count": 28,
   "id": "91662471",
   "metadata": {},
   "outputs": [
    {
     "name": "stdout",
     "output_type": "stream",
     "text": [
      "h\n"
     ]
    }
   ],
   "source": [
    "print(a[-1]) this is used to get the last letter of the string "
   ]
  },
  {
   "cell_type": "code",
   "execution_count": 29,
   "id": "c97feed6",
   "metadata": {},
   "outputs": [
    {
     "name": "stdout",
     "output_type": "stream",
     "text": [
      "hsaliak\n"
     ]
    }
   ],
   "source": [
    "print(a[::-1]) this used to get the string in reverse order by using the common theory in phython"
   ]
  },
  {
   "cell_type": "code",
   "execution_count": 36,
   "id": "08cba264",
   "metadata": {},
   "outputs": [],
   "source": [
    "a=(\"kailash\")\n"
   ]
  },
  {
   "cell_type": "code",
   "execution_count": null,
   "id": "3756bbb4",
   "metadata": {},
   "outputs": [],
   "source": [
    "class 2 6/7/2023"
   ]
  },
  {
   "cell_type": "code",
   "execution_count": 154,
   "id": "04322f1c",
   "metadata": {},
   "outputs": [],
   "source": [
    "a=\"mahendra singh dhoni\""
   ]
  },
  {
   "cell_type": "code",
   "execution_count": 155,
   "id": "84a2b79c",
   "metadata": {},
   "outputs": [
    {
     "data": {
      "text/plain": [
       "'mahendra singh dhoni'"
      ]
     },
     "execution_count": 155,
     "metadata": {},
     "output_type": "execute_result"
    }
   ],
   "source": [
    "a\n"
   ]
  },
  {
   "cell_type": "code",
   "execution_count": 156,
   "id": "d3cc2368",
   "metadata": {},
   "outputs": [
    {
     "name": "stdout",
     "output_type": "stream",
     "text": [
      "10\n"
     ]
    }
   ],
   "source": [
    "print(a.index(\"i\"))#this gives the designation place of the character"
   ]
  },
  {
   "cell_type": "code",
   "execution_count": 157,
   "id": "789dec72",
   "metadata": {},
   "outputs": [
    {
     "name": "stdout",
     "output_type": "stream",
     "text": [
      "10\n"
     ]
    }
   ],
   "source": [
    "print(a.index(\"i\",2,15))# this specifically asks whether the character is between the mentioned ex.(2 to 16)or not"
   ]
  },
  {
   "cell_type": "code",
   "execution_count": 158,
   "id": "7234858e",
   "metadata": {},
   "outputs": [
    {
     "name": "stdout",
     "output_type": "stream",
     "text": [
      "19\n"
     ]
    }
   ],
   "source": [
    "print(a.rindex(\"i\"))#this reverse index gives the value of the character inthe reverse order"
   ]
  },
  {
   "cell_type": "code",
   "execution_count": 55,
   "id": "83463ee7",
   "metadata": {},
   "outputs": [
    {
     "name": "stdout",
     "output_type": "stream",
     "text": [
      "-1\n"
     ]
    }
   ],
   "source": [
    "print(a.find(\"z\"))#this find is same as the index but it doesn't throw error, if the respective value is not present it gives \n",
    "the value as -1"
   ]
  },
  {
   "cell_type": "code",
   "execution_count": 159,
   "id": "a76c0140",
   "metadata": {},
   "outputs": [
    {
     "name": "stdout",
     "output_type": "stream",
     "text": [
      "19\n"
     ]
    }
   ],
   "source": [
    "print(a.rfind(\"i\"))#this reverse find is same as the rfind it doesn't throw error, it gives the values as -1"
   ]
  },
  {
   "cell_type": "code",
   "execution_count": 57,
   "id": "99417071",
   "metadata": {},
   "outputs": [
    {
     "name": "stdout",
     "output_type": "stream",
     "text": [
      "['mah', 'ndra singh dhoni']\n"
     ]
    }
   ],
   "source": [
    "print(a.split(\"e\"))"
   ]
  },
  {
   "cell_type": "code",
   "execution_count": 58,
   "id": "4b110d37",
   "metadata": {},
   "outputs": [
    {
     "name": "stdout",
     "output_type": "stream",
     "text": [
      "['mahe', 'dra si', 'gh dho', 'i']\n"
     ]
    }
   ],
   "source": [
    "print(a.split(\"n\"))"
   ]
  },
  {
   "cell_type": "code",
   "execution_count": 60,
   "id": "4d421637",
   "metadata": {},
   "outputs": [
    {
     "name": "stdout",
     "output_type": "stream",
     "text": [
      "['mahe', 'dra si', 'gh dhoni']\n"
     ]
    }
   ],
   "source": [
    "print(a.split(\"n\",2))"
   ]
  },
  {
   "cell_type": "code",
   "execution_count": 63,
   "id": "a54ec55d",
   "metadata": {},
   "outputs": [
    {
     "name": "stdout",
     "output_type": "stream",
     "text": [
      "mahendra snngh dhonn\n"
     ]
    }
   ],
   "source": [
    "print(a.replace(\"i\",\"n\"))"
   ]
  },
  {
   "cell_type": "code",
   "execution_count": 66,
   "id": "7e9a0a43",
   "metadata": {},
   "outputs": [
    {
     "name": "stdout",
     "output_type": "stream",
     "text": [
      "3\n"
     ]
    }
   ],
   "source": [
    "print(a.count(\"n\"))#this is know the count of the string"
   ]
  },
  {
   "cell_type": "code",
   "execution_count": 68,
   "id": "7623999e",
   "metadata": {},
   "outputs": [
    {
     "name": "stdout",
     "output_type": "stream",
     "text": [
      "True\n"
     ]
    }
   ],
   "source": [
    "print(a.startswith(\"m\"))#this is to know whether the string starts with the respective character"
   ]
  },
  {
   "cell_type": "code",
   "execution_count": 69,
   "id": "3ab702f2",
   "metadata": {},
   "outputs": [
    {
     "name": "stdout",
     "output_type": "stream",
     "text": [
      "False\n"
     ]
    }
   ],
   "source": [
    "print(a.endswith(\"n\")) # this is know whether the string ends with the respective character"
   ]
  },
  {
   "cell_type": "code",
   "execution_count": 70,
   "id": "64249742",
   "metadata": {},
   "outputs": [],
   "source": [
    "a=\"     govinda rampaul\""
   ]
  },
  {
   "cell_type": "code",
   "execution_count": 71,
   "id": "47c3667c",
   "metadata": {},
   "outputs": [
    {
     "name": "stdout",
     "output_type": "stream",
     "text": [
      "     govinda rampaul\n"
     ]
    }
   ],
   "source": [
    "print(a.rstrip())"
   ]
  },
  {
   "cell_type": "code",
   "execution_count": 72,
   "id": "67c3c77b",
   "metadata": {},
   "outputs": [
    {
     "name": "stdout",
     "output_type": "stream",
     "text": [
      "govinda rampaul\n"
     ]
    }
   ],
   "source": [
    "print(a.lstrip())"
   ]
  },
  {
   "cell_type": "code",
   "execution_count": 73,
   "id": "5b386ac5",
   "metadata": {},
   "outputs": [
    {
     "name": "stdout",
     "output_type": "stream",
     "text": [
      "govinda rampaul\n"
     ]
    }
   ],
   "source": [
    "print(a.strip())\n",
    "print(a.strip())"
   ]
  },
  {
   "cell_type": "code",
   "execution_count": 75,
   "id": "f9fb2895",
   "metadata": {},
   "outputs": [
    {
     "ename": "SyntaxError",
     "evalue": "invalid syntax (3317364679.py, line 1)",
     "output_type": "error",
     "traceback": [
      "\u001b[1;36m  Cell \u001b[1;32mIn[75], line 1\u001b[1;36m\u001b[0m\n\u001b[1;33m    string is completed!\u001b[0m\n\u001b[1;37m                       ^\u001b[0m\n\u001b[1;31mSyntaxError\u001b[0m\u001b[1;31m:\u001b[0m invalid syntax\n"
     ]
    }
   ],
   "source": [
    "string is completed!\n",
    "--------------------------------------------------"
   ]
  },
  {
   "cell_type": "code",
   "execution_count": 76,
   "id": "14958f60",
   "metadata": {},
   "outputs": [],
   "source": [
    "a=\"220\""
   ]
  },
  {
   "cell_type": "code",
   "execution_count": 77,
   "id": "c36b20ab",
   "metadata": {},
   "outputs": [],
   "source": [
    "b=220"
   ]
  },
  {
   "cell_type": "code",
   "execution_count": 82,
   "id": "082544e3",
   "metadata": {},
   "outputs": [
    {
     "name": "stdout",
     "output_type": "stream",
     "text": [
      "<class 'str'>\n"
     ]
    }
   ],
   "source": [
    "print(type (a))"
   ]
  },
  {
   "cell_type": "code",
   "execution_count": 83,
   "id": "7acec0df",
   "metadata": {},
   "outputs": [
    {
     "name": "stdout",
     "output_type": "stream",
     "text": [
      "<class 'int'>\n"
     ]
    }
   ],
   "source": [
    "print(type(b))"
   ]
  },
  {
   "cell_type": "code",
   "execution_count": 84,
   "id": "42ee5aa8",
   "metadata": {},
   "outputs": [
    {
     "name": "stdout",
     "output_type": "stream",
     "text": [
      "True\n"
     ]
    }
   ],
   "source": [
    "print(a.isdigit())"
   ]
  },
  {
   "cell_type": "code",
   "execution_count": 85,
   "id": "04ae8d77",
   "metadata": {},
   "outputs": [],
   "source": [
    "b= int(a)  #if the value inside the string is an number so that it can be changed to integer"
   ]
  },
  {
   "cell_type": "code",
   "execution_count": 87,
   "id": "1692f532",
   "metadata": {},
   "outputs": [
    {
     "name": "stdout",
     "output_type": "stream",
     "text": [
      "<class 'int'>\n"
     ]
    }
   ],
   "source": [
    "print(type (b)) #if the value inside the string is not an number so that it cannot be changed and throws an error"
   ]
  },
  {
   "cell_type": "code",
   "execution_count": 88,
   "id": "a4112cb4",
   "metadata": {},
   "outputs": [
    {
     "data": {
      "text/plain": [
       "220"
      ]
     },
     "execution_count": 88,
     "metadata": {},
     "output_type": "execute_result"
    }
   ],
   "source": [
    "b"
   ]
  },
  {
   "cell_type": "code",
   "execution_count": 89,
   "id": "acd69855",
   "metadata": {},
   "outputs": [],
   "source": [
    "a=\"test\""
   ]
  },
  {
   "cell_type": "code",
   "execution_count": 91,
   "id": "c2e5a0bd",
   "metadata": {},
   "outputs": [
    {
     "ename": "ValueError",
     "evalue": "invalid literal for int() with base 10: 'test'",
     "output_type": "error",
     "traceback": [
      "\u001b[1;31m---------------------------------------------------------------------------\u001b[0m",
      "\u001b[1;31mValueError\u001b[0m                                Traceback (most recent call last)",
      "Cell \u001b[1;32mIn[91], line 1\u001b[0m\n\u001b[1;32m----> 1\u001b[0m b\u001b[38;5;241m=\u001b[39m\u001b[38;5;28;43mint\u001b[39;49m\u001b[43m \u001b[49m\u001b[43m(\u001b[49m\u001b[43ma\u001b[49m\u001b[43m)\u001b[49m\n",
      "\u001b[1;31mValueError\u001b[0m: invalid literal for int() with base 10: 'test'"
     ]
    }
   ],
   "source": [
    "b=int (a)"
   ]
  },
  {
   "cell_type": "code",
   "execution_count": 92,
   "id": "39be1423",
   "metadata": {},
   "outputs": [],
   "source": [
    "#get a input as a number from user and check the data type\n",
    "\n",
    "##a=\"test@gmail.com\"\n",
    "##test  get the list user name as one \n",
    "#gmail get the gmail user name as another\n",
    "\n",
    "## a =\"welcome to todays class\"\n",
    "##output:\"welcometotodyasclass\" get a output without space\n"
   ]
  },
  {
   "cell_type": "code",
   "execution_count": 96,
   "id": "87ab9254",
   "metadata": {},
   "outputs": [],
   "source": [
    "--------------------------------------------------------------------------------------------------------------------------------\n",
    "#next class     #next class    #next class     #next class      #next class     #next class     #next class    #next class\n"
   ]
  },
  {
   "cell_type": "code",
   "execution_count": 97,
   "id": "d253547a",
   "metadata": {},
   "outputs": [],
   "source": [
    "#data type 3 (LIST) list must be in [] square brackets"
   ]
  },
  {
   "cell_type": "code",
   "execution_count": 98,
   "id": "b4121a27",
   "metadata": {},
   "outputs": [],
   "source": [
    "a=[\"kailash\",\"chennai\",\"23\"]"
   ]
  },
  {
   "cell_type": "code",
   "execution_count": 100,
   "id": "ec7c975d",
   "metadata": {},
   "outputs": [
    {
     "name": "stdout",
     "output_type": "stream",
     "text": [
      "23\n",
      "kailash\n",
      "['23', 'chennai', 'kailash']\n"
     ]
    }
   ],
   "source": [
    "print(min(a))\n",
    "print(max(a))\n",
    "print(sorted(a))"
   ]
  },
  {
   "cell_type": "code",
   "execution_count": 102,
   "id": "a5970ccf",
   "metadata": {},
   "outputs": [],
   "source": [
    "a=[\"kailash\",23,\"chennai\"] "
   ]
  },
  {
   "cell_type": "code",
   "execution_count": 103,
   "id": "9524a073",
   "metadata": {},
   "outputs": [
    {
     "ename": "TypeError",
     "evalue": "'<' not supported between instances of 'int' and 'str'",
     "output_type": "error",
     "traceback": [
      "\u001b[1;31m---------------------------------------------------------------------------\u001b[0m",
      "\u001b[1;31mTypeError\u001b[0m                                 Traceback (most recent call last)",
      "Cell \u001b[1;32mIn[103], line 1\u001b[0m\n\u001b[1;32m----> 1\u001b[0m \u001b[38;5;28mprint\u001b[39m(\u001b[38;5;28;43mmin\u001b[39;49m\u001b[43m(\u001b[49m\u001b[43ma\u001b[49m\u001b[43m)\u001b[49m)\n",
      "\u001b[1;31mTypeError\u001b[0m: '<' not supported between instances of 'int' and 'str'"
     ]
    }
   ],
   "source": [
    "print(min(a)) this function list option of finding min and max can operated between strings or int not with both of them"
   ]
  },
  {
   "cell_type": "code",
   "execution_count": 106,
   "id": "f7b13d0f",
   "metadata": {},
   "outputs": [
    {
     "name": "stdout",
     "output_type": "stream",
     "text": [
      "['chennai', 23, 'kailash']\n"
     ]
    }
   ],
   "source": [
    "print(a[::-1]) #this are the both options available for reverse the string"
   ]
  },
  {
   "cell_type": "code",
   "execution_count": 111,
   "id": "f435ebb4",
   "metadata": {},
   "outputs": [
    {
     "name": "stdout",
     "output_type": "stream",
     "text": [
      "['chennai', 23, 'kailash']\n"
     ]
    }
   ],
   "source": [
    "\n",
    "print(list(reversed(a)))"
   ]
  },
  {
   "cell_type": "code",
   "execution_count": 116,
   "id": "3260675c",
   "metadata": {},
   "outputs": [
    {
     "name": "stdout",
     "output_type": "stream",
     "text": [
      "2\n"
     ]
    }
   ],
   "source": [
    "print(a.index(\"chennai\"))"
   ]
  },
  {
   "cell_type": "code",
   "execution_count": 117,
   "id": "a0c20cd3",
   "metadata": {},
   "outputs": [],
   "source": [
    "a.append(\"beach\")\n"
   ]
  },
  {
   "cell_type": "code",
   "execution_count": 118,
   "id": "93922411",
   "metadata": {},
   "outputs": [
    {
     "data": {
      "text/plain": [
       "['kailash', 23, 'chennai', 'beach']"
      ]
     },
     "execution_count": 118,
     "metadata": {},
     "output_type": "execute_result"
    }
   ],
   "source": [
    "a"
   ]
  },
  {
   "cell_type": "code",
   "execution_count": 121,
   "id": "78ea57a3",
   "metadata": {},
   "outputs": [],
   "source": [
    "a.insert(2,\"beach\")"
   ]
  },
  {
   "cell_type": "code",
   "execution_count": 122,
   "id": "b64d1f4c",
   "metadata": {},
   "outputs": [
    {
     "data": {
      "text/plain": [
       "['kailash', 23, 'beach', 'chennai', 'beach']"
      ]
     },
     "execution_count": 122,
     "metadata": {},
     "output_type": "execute_result"
    }
   ],
   "source": [
    "a"
   ]
  },
  {
   "cell_type": "code",
   "execution_count": 127,
   "id": "f9caa6b1",
   "metadata": {},
   "outputs": [],
   "source": [
    "a.remove(a[2])"
   ]
  },
  {
   "cell_type": "code",
   "execution_count": 128,
   "id": "43a92f3f",
   "metadata": {},
   "outputs": [
    {
     "data": {
      "text/plain": [
       "['kailash', 23, 'chennai', 'beach']"
      ]
     },
     "execution_count": 128,
     "metadata": {},
     "output_type": "execute_result"
    }
   ],
   "source": [
    "a\n"
   ]
  },
  {
   "cell_type": "code",
   "execution_count": 129,
   "id": "c59a2b6f",
   "metadata": {},
   "outputs": [],
   "source": [
    "b=a.pop"
   ]
  },
  {
   "cell_type": "code",
   "execution_count": 133,
   "id": "86a46f94",
   "metadata": {},
   "outputs": [
    {
     "data": {
      "text/plain": [
       "<function list.pop(index=-1, /)>"
      ]
     },
     "execution_count": 133,
     "metadata": {},
     "output_type": "execute_result"
    }
   ],
   "source": [
    "b\n"
   ]
  },
  {
   "cell_type": "code",
   "execution_count": 134,
   "id": "08bb56e6",
   "metadata": {},
   "outputs": [],
   "source": [
    "#shallow copy\n",
    "a=[1,2,3]\n",
    "b=a\n",
    "a.append(4)"
   ]
  },
  {
   "cell_type": "code",
   "execution_count": 135,
   "id": "824aea42",
   "metadata": {},
   "outputs": [
    {
     "data": {
      "text/plain": [
       "[1, 2, 3, 4]"
      ]
     },
     "execution_count": 135,
     "metadata": {},
     "output_type": "execute_result"
    }
   ],
   "source": [
    "a"
   ]
  },
  {
   "cell_type": "code",
   "execution_count": 136,
   "id": "9d63b365",
   "metadata": {},
   "outputs": [
    {
     "data": {
      "text/plain": [
       "[1, 2, 3, 4]"
      ]
     },
     "execution_count": 136,
     "metadata": {},
     "output_type": "execute_result"
    }
   ],
   "source": [
    "b"
   ]
  },
  {
   "cell_type": "code",
   "execution_count": 166,
   "id": "495fc380",
   "metadata": {},
   "outputs": [],
   "source": [
    "#deep copy\n",
    "a=[1,2,3]\n",
    "\n",
    "b=a.copy()\n",
    "a.append(4)"
   ]
  },
  {
   "cell_type": "code",
   "execution_count": 167,
   "id": "5e05eb7d",
   "metadata": {},
   "outputs": [
    {
     "data": {
      "text/plain": [
       "[1, 2, 3, 4]"
      ]
     },
     "execution_count": 167,
     "metadata": {},
     "output_type": "execute_result"
    }
   ],
   "source": [
    "a"
   ]
  },
  {
   "cell_type": "code",
   "execution_count": 168,
   "id": "f4509e47",
   "metadata": {},
   "outputs": [
    {
     "data": {
      "text/plain": [
       "[1, 2, 3]"
      ]
     },
     "execution_count": 168,
     "metadata": {},
     "output_type": "execute_result"
    }
   ],
   "source": [
    "b"
   ]
  },
  {
   "cell_type": "code",
   "execution_count": 146,
   "id": "73df6294",
   "metadata": {},
   "outputs": [
    {
     "name": "stdout",
     "output_type": "stream",
     "text": [
      "<class 'tuple'>\n"
     ]
    }
   ],
   "source": [
    "#tuple brackets\n",
    "a=(1,2,3,4)\n",
    "print(type(a))"
   ]
  },
  {
   "cell_type": "code",
   "execution_count": 169,
   "id": "e6200d00",
   "metadata": {},
   "outputs": [
    {
     "name": "stdout",
     "output_type": "stream",
     "text": [
      "<class 'str'>\n"
     ]
    }
   ],
   "source": [
    "a = \"123\"\n",
    "print(type(a))"
   ]
  },
  {
   "cell_type": "code",
   "execution_count": 148,
   "id": "3c94c5d6",
   "metadata": {},
   "outputs": [
    {
     "name": "stdout",
     "output_type": "stream",
     "text": [
      "4\n",
      "1\n",
      "[1, 2, 3, 4]\n",
      "3\n"
     ]
    }
   ],
   "source": [
    "print(max(a))\n",
    "print(min(a))\n",
    "print(sorted(a))\n",
    "print(a.index(4))"
   ]
  },
  {
   "cell_type": "code",
   "execution_count": 150,
   "id": "0c0a2d58",
   "metadata": {},
   "outputs": [
    {
     "ename": "AttributeError",
     "evalue": "'tuple' object has no attribute 'rindex'",
     "output_type": "error",
     "traceback": [
      "\u001b[1;31m---------------------------------------------------------------------------\u001b[0m",
      "\u001b[1;31mAttributeError\u001b[0m                            Traceback (most recent call last)",
      "Cell \u001b[1;32mIn[150], line 1\u001b[0m\n\u001b[1;32m----> 1\u001b[0m \u001b[38;5;28mprint\u001b[39m(\u001b[43ma\u001b[49m\u001b[38;5;241;43m.\u001b[39;49m\u001b[43mrindex\u001b[49m(a))\n\u001b[0;32m      2\u001b[0m \u001b[38;5;28mprint\u001b[39m(a\u001b[38;5;241m.\u001b[39mfind(a))\n\u001b[0;32m      3\u001b[0m \u001b[38;5;28mprint\u001b[39m(a\u001b[38;5;241m.\u001b[39mrfind(a))\n",
      "\u001b[1;31mAttributeError\u001b[0m: 'tuple' object has no attribute 'rindex'"
     ]
    }
   ],
   "source": [
    "print(a.rindex(a))\n",
    "print(a.find(a))\n",
    "print(a.rfind(a))# reverse or find doesnot work in list data type"
   ]
  },
  {
   "cell_type": "code",
   "execution_count": 152,
   "id": "93a0a21c",
   "metadata": {},
   "outputs": [
    {
     "name": "stdout",
     "output_type": "stream",
     "text": [
      "(4, 3, 2, 1)\n"
     ]
    }
   ],
   "source": [
    "print(a[::-1])"
   ]
  },
  {
   "cell_type": "code",
   "execution_count": 170,
   "id": "a6a3cb23",
   "metadata": {},
   "outputs": [
    {
     "data": {
      "text/plain": [
       "'\\n#list(collection of str and int)            tuple\\nmuteable                                 immuteale\\nslow                                      fast\\n()                                         []\\n'"
      ]
     },
     "execution_count": 170,
     "metadata": {},
     "output_type": "execute_result"
    }
   ],
   "source": [
    "\"\"\"\n",
    "#list(collection of str and int)            tuple\n",
    "muteable                                 immuteale\n",
    "slow                                      fast\n",
    "[]                                        ()\n",
    "\"\"\""
   ]
  },
  {
   "cell_type": "code",
   "execution_count": 171,
   "id": "a69920ee",
   "metadata": {},
   "outputs": [],
   "source": [
    "a = (1,2,3,4)"
   ]
  },
  {
   "cell_type": "code",
   "execution_count": 172,
   "id": "777cb9cf",
   "metadata": {},
   "outputs": [
    {
     "ename": "AttributeError",
     "evalue": "'tuple' object has no attribute 'append'",
     "output_type": "error",
     "traceback": [
      "\u001b[1;31m---------------------------------------------------------------------------\u001b[0m",
      "\u001b[1;31mAttributeError\u001b[0m                            Traceback (most recent call last)",
      "Cell \u001b[1;32mIn[172], line 1\u001b[0m\n\u001b[1;32m----> 1\u001b[0m \u001b[43ma\u001b[49m\u001b[38;5;241;43m.\u001b[39;49m\u001b[43mappend\u001b[49m(\u001b[38;5;241m5\u001b[39m)\n",
      "\u001b[1;31mAttributeError\u001b[0m: 'tuple' object has no attribute 'append'"
     ]
    }
   ],
   "source": [
    "a.append(5)"
   ]
  },
  {
   "cell_type": "code",
   "execution_count": 173,
   "id": "c7d04372",
   "metadata": {},
   "outputs": [],
   "source": [
    "name = \"test\"\n",
    "age = \"20\"\n",
    "loc = \"chenai\""
   ]
  },
  {
   "cell_type": "code",
   "execution_count": 174,
   "id": "622386a9",
   "metadata": {},
   "outputs": [],
   "source": [
    "a = [[\"test\" , \"20\" , \"chennai\"],[\"demo\" , \"37\", \"hasgdha\"]]"
   ]
  },
  {
   "cell_type": "code",
   "execution_count": 175,
   "id": "498cbe7d",
   "metadata": {},
   "outputs": [
    {
     "data": {
      "text/plain": [
       "3"
      ]
     },
     "execution_count": 175,
     "metadata": {},
     "output_type": "execute_result"
    }
   ],
   "source": [
    "a = \"demo\"\n",
    "a.index(\"o\")"
   ]
  },
  {
   "cell_type": "code",
   "execution_count": 176,
   "id": "3637efef",
   "metadata": {},
   "outputs": [
    {
     "data": {
      "text/plain": [
       "0"
      ]
     },
     "execution_count": 176,
     "metadata": {},
     "output_type": "execute_result"
    }
   ],
   "source": [
    "a = [\"test\" , \"30\" , \"mjfdcfsjhdf\"]\n",
    "a.index(\"test\")"
   ]
  },
  {
   "cell_type": "code",
   "execution_count": 184,
   "id": "680482e3",
   "metadata": {},
   "outputs": [
    {
     "name": "stdout",
     "output_type": "stream",
     "text": [
      "[1, 2]\n",
      "3\n"
     ]
    }
   ],
   "source": [
    "a = [1,2,3]\n",
    "b = a.pop()\n",
    "print(a)\n",
    "print(b)"
   ]
  },
  {
   "cell_type": "code",
   "execution_count": null,
   "id": "d87ab342",
   "metadata": {},
   "outputs": [],
   "source": []
  }
 ],
 "metadata": {
  "kernelspec": {
   "display_name": "Python 3 (ipykernel)",
   "language": "python",
   "name": "python3"
  },
  "language_info": {
   "codemirror_mode": {
    "name": "ipython",
    "version": 3
   },
   "file_extension": ".py",
   "mimetype": "text/x-python",
   "name": "python",
   "nbconvert_exporter": "python",
   "pygments_lexer": "ipython3",
   "version": "3.10.9"
  }
 },
 "nbformat": 4,
 "nbformat_minor": 5
}
